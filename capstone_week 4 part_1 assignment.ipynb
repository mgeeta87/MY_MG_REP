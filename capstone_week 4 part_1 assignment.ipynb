{
    "nbformat_minor": 1, 
    "cells": [
        {
            "source": "## I would like to compare Schools in Hyderabad and Bangalore", 
            "cell_type": "markdown", 
            "metadata": {
                "collapsed": true
            }
        }, 
        {
            "source": "### Introduction to the problem", 
            "cell_type": "markdown", 
            "metadata": {}
        }, 
        {
            "source": "High quality education is a prerequisite for learning and human development.A quality education provides the outcomes needed for individuals,communities and societies to prosper high", 
            "cell_type": "markdown", 
            "metadata": {}
        }, 
        {
            "source": "Now i would like to compare the list of schools in both Hyderabad and Bangalore and would like to provide people with required information based on their current location to figure out which schools offers the best quality of education and its benefits", 
            "cell_type": "markdown", 
            "metadata": {}
        }, 
        {
            "source": "", 
            "cell_type": "code", 
            "metadata": {}, 
            "outputs": [], 
            "execution_count": null
        }
    ], 
    "metadata": {
        "kernelspec": {
            "display_name": "Python 3.5", 
            "name": "python3", 
            "language": "python"
        }, 
        "language_info": {
            "mimetype": "text/x-python", 
            "nbconvert_exporter": "python", 
            "version": "3.5.5", 
            "name": "python", 
            "pygments_lexer": "ipython3", 
            "file_extension": ".py", 
            "codemirror_mode": {
                "version": 3, 
                "name": "ipython"
            }
        }
    }, 
    "nbformat": 4
}