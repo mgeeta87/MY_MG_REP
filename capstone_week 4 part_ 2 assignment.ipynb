{
    "nbformat_minor": 1, 
    "cells": [
        {
            "source": "## I would like to compare Schools in Hyderabad and Bangalore\n", 
            "cell_type": "markdown", 
            "metadata": {
                "collapsed": true
            }
        }, 
        {
            "source": "### Introduction to the problem", 
            "cell_type": "markdown", 
            "metadata": {}
        }, 
        {
            "source": "High quality education is a prerequisite for learning and human development.A quality education provides the outcomes needed for individuals,communities and societies to prosper high", 
            "cell_type": "markdown", 
            "metadata": {}
        }, 
        {
            "source": "Now i would like to compare the list of schools in both Hyderabad and Bangalore and would like to provide people with required information based on their current location to figure out which schools offers the best quality of education and its benefits", 
            "cell_type": "markdown", 
            "metadata": {}
        }, 
        {
            "source": "", 
            "cell_type": "code", 
            "metadata": {}, 
            "outputs": [], 
            "execution_count": null
        }, 
        {
            "source": "####  Data Requirements", 
            "cell_type": "markdown", 
            "metadata": {}
        }, 
        {
            "source": "Step 1 - Get the Data from the Internet", 
            "cell_type": "markdown", 
            "metadata": {}
        }, 
        {
            "source": "Hyderabad Communities", 
            "cell_type": "markdown", 
            "metadata": {}
        }, 
        {
            "source": "https://www.mapsofindia.com/pincode/india/telangana/hyderabad/", 
            "cell_type": "markdown", 
            "metadata": {}
        }, 
        {
            "source": "Bangalore Communities", 
            "cell_type": "markdown", 
            "metadata": {}
        }, 
        {
            "source": "https://www.mapsofindia.com/pincode/india/karnataka/bangalore/", 
            "cell_type": "markdown", 
            "metadata": {}
        }, 
        {
            "source": "Step 2 - Identify the list of schools in these communities", 
            "cell_type": "markdown", 
            "metadata": {}
        }, 
        {
            "source": "Step 3 -Use the Foresquare API to get the list of schools in each community", 
            "cell_type": "markdown", 
            "metadata": {}
        }, 
        {
            "source": "Step 4-Clean the data", 
            "cell_type": "markdown", 
            "metadata": {}
        }, 
        {
            "source": "Step 5-Load the data into Dataframe", 
            "cell_type": "markdown", 
            "metadata": {}
        }, 
        {
            "source": "Step 6 - Get the list of top schools in each city based on the number of reviews", 
            "cell_type": "markdown", 
            "metadata": {}
        }, 
        {
            "source": "Step 7 - Get the fees structure and best amenities from each school", 
            "cell_type": "markdown", 
            "metadata": {}
        }, 
        {
            "source": "Step 8 - Recommend the people about the top schools in each city accordingly", 
            "cell_type": "markdown", 
            "metadata": {}
        }, 
        {
            "source": "", 
            "cell_type": "code", 
            "metadata": {}, 
            "outputs": [], 
            "execution_count": null
        }
    ], 
    "metadata": {
        "kernelspec": {
            "display_name": "Python 3.5", 
            "name": "python3", 
            "language": "python"
        }, 
        "language_info": {
            "mimetype": "text/x-python", 
            "nbconvert_exporter": "python", 
            "version": "3.5.5", 
            "name": "python", 
            "pygments_lexer": "ipython3", 
            "file_extension": ".py", 
            "codemirror_mode": {
                "version": 3, 
                "name": "ipython"
            }
        }
    }, 
    "nbformat": 4
}